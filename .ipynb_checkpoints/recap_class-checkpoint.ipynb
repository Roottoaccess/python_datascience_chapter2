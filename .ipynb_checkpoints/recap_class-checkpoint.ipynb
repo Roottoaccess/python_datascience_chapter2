{
 "cells": [
  {
   "cell_type": "code",
   "execution_count": 9,
   "id": "8217ec48",
   "metadata": {},
   "outputs": [
    {
     "name": "stdout",
     "output_type": "stream",
     "text": [
      "Enter the number: 55\n",
      "D\n"
     ]
    }
   ],
   "source": [
    "marks = int(input(\"Enter the number: \"))\n",
    "if marks <= 100 and marks > 90:\n",
    "    print(\"A+\")\n",
    "elif marks <= 90 and marks > 80:\n",
    "    print(\"A\")\n",
    "elif marks <= 80 and marks > 70:\n",
    "    print(\"B\")\n",
    "elif marks <= 70 and marks > 60:\n",
    "    print(\"C\")\n",
    "elif marks <= 60 and marks > 50:\n",
    "    print(\"D\")\n",
    "elif marks <= 50 and marks > 40:\n",
    "    print(\"E\")\n",
    "elif marks <= 40:\n",
    "    print(\"F\")\n",
    "else:\n",
    "    print(\"please enter a valid marks !\")"
   ]
  },
  {
   "cell_type": "code",
   "execution_count": 13,
   "id": "dd3d0420",
   "metadata": {},
   "outputs": [
    {
     "name": "stdout",
     "output_type": "stream",
     "text": [
      "Enter the number: 14\n",
      "print result:  24.5\n"
     ]
    }
   ],
   "source": [
    "x = int(input(\"Enter the number: \"))\n",
    "if x%2 == 0:\n",
    "    result = (x * 7)/4\n",
    "    print(\"print result: \",result)\n",
    "else:\n",
    "    print(\"the number is not an even number !\")"
   ]
  },
  {
   "cell_type": "code",
   "execution_count": 25,
   "id": "9470eda9",
   "metadata": {},
   "outputs": [
    {
     "name": "stdout",
     "output_type": "stream",
     "text": [
      "Enter the value: 16\n",
      "The number is divided by 3....\n"
     ]
    }
   ],
   "source": [
    "# Write a program that will take input from the user and wil check whether the last digit of the inout is divisible by 3 or not ?\n",
    "num = int(input(\"Enter the value: \"))\n",
    "iid = num % 10\n",
    "if iid % 3 == 0:\n",
    "    print(\"The number is divided by 3....\")\n",
    "else:\n",
    "    print(\"The number is not divided by 3....\")"
   ]
  },
  {
   "cell_type": "code",
   "execution_count": 29,
   "id": "cc61beb9",
   "metadata": {},
   "outputs": [
    {
     "name": "stdout",
     "output_type": "stream",
     "text": [
      "0\n",
      "2\n",
      "4\n",
      "6\n",
      "8\n",
      "10\n",
      "12\n",
      "14\n",
      "16\n",
      "18\n",
      "20\n",
      "40\n"
     ]
    }
   ],
   "source": [
    "i = 0\n",
    "for i in range(0 , 11):\n",
    "    print(i * 2)\n",
    "print(i * 4)"
   ]
  },
  {
   "cell_type": "code",
   "execution_count": 32,
   "id": "b7ef9556",
   "metadata": {},
   "outputs": [
    {
     "name": "stdout",
     "output_type": "stream",
     "text": [
      "new york city\n",
      "Done\n",
      "mountain view\n",
      "Done\n",
      "chicago\n",
      "Done\n",
      "los\n",
      "Done\n",
      "Done\n"
     ]
    }
   ],
   "source": [
    "cities = ['new york city' , 'mountain view' , 'chicago' , 'los']\n",
    "for city in cities[:]:\n",
    "    print(city)\n",
    "    print('Done')\n",
    "print('Done')"
   ]
  },
  {
   "cell_type": "code",
   "execution_count": 33,
   "id": "af57c87e",
   "metadata": {},
   "outputs": [
    {
     "name": "stdout",
     "output_type": "stream",
     "text": [
      "1\n",
      "Hello!\n",
      "2\n",
      "Hello!\n",
      "3\n",
      "Hello!\n",
      "4\n",
      "Hello!\n"
     ]
    }
   ],
   "source": [
    "for j in range(1,5):\n",
    "    print(j)\n",
    "    print(\"Hello!\")"
   ]
  },
  {
   "cell_type": "code",
   "execution_count": 35,
   "id": "55f710c9",
   "metadata": {},
   "outputs": [
    {
     "name": "stdout",
     "output_type": "stream",
     "text": [
      "Enter the number: 15\n",
      "15  X  1  =  15\n",
      "15  X  2  =  30\n",
      "15  X  3  =  45\n",
      "15  X  4  =  60\n",
      "15  X  5  =  75\n",
      "15  X  6  =  90\n",
      "15  X  7  =  105\n",
      "15  X  8  =  120\n",
      "15  X  9  =  135\n",
      "15  X  10  =  150\n"
     ]
    }
   ],
   "source": [
    "# Multiplication table\n",
    "number = int(input(\"Enter the number: \"))\n",
    "for i in range (1 , 11):\n",
    "    result = i * number;\n",
    "    print(number,\" X \",i,\" = \",result)"
   ]
  },
  {
   "cell_type": "code",
   "execution_count": 43,
   "id": "5570e7cf",
   "metadata": {},
   "outputs": [
    {
     "name": "stdout",
     "output_type": "stream",
     "text": [
      "1\n",
      "3\n",
      "5\n",
      "7\n",
      "9\n"
     ]
    }
   ],
   "source": [
    "for i in range(1 , 10, 2):\n",
    "    print(i)"
   ]
  },
  {
   "cell_type": "code",
   "execution_count": 45,
   "id": "a5498f9c",
   "metadata": {},
   "outputs": [
    {
     "name": "stdout",
     "output_type": "stream",
     "text": [
      "['new your cities', 'mountains', 'chicago', 'los an']\n"
     ]
    }
   ],
   "source": [
    "# Creating and modifying list:\n",
    "cities = ['new your cities' , 'mountains' , 'chicago' , 'los an']\n",
    "capatalize_cities = []\n",
    "\n",
    "for i in cities:\n",
    "    capatalize_cities.append(i)\n",
    "print(capatalize_cities)"
   ]
  },
  {
   "cell_type": "code",
   "execution_count": 47,
   "id": "8af66d59",
   "metadata": {},
   "outputs": [
    {
     "name": "stdout",
     "output_type": "stream",
     "text": [
      "['New your cities', 'Mountains', 'Chicago', 'Los an']\n"
     ]
    }
   ],
   "source": [
    "cities = ['new your cities' , 'mountains' , 'chicago' , 'los an']\n",
    "for i in range(len(cities)):\n",
    "    cities[i] = cities[i].capitalize()\n",
    "print(cities)"
   ]
  },
  {
   "cell_type": "code",
   "execution_count": 58,
   "id": "4fd60ffd",
   "metadata": {},
   "outputs": [
    {
     "name": "stdout",
     "output_type": "stream",
     "text": [
      "[4, 9, 16, 25]\n",
      "<class 'list'>\n"
     ]
    }
   ],
   "source": [
    "# Homework done\n",
    "lst = [2 , 3 , 4 , 5]\n",
    "new_list = []\n",
    "for i in range(0 , 4):\n",
    "    result = lst[i] ** 2\n",
    "    new_list.append(result)\n",
    "print(new_list)\n",
    "print(type(new_list))"
   ]
  },
  {
   "cell_type": "code",
   "execution_count": null,
   "id": "551fa2f6",
   "metadata": {},
   "outputs": [],
   "source": []
  }
 ],
 "metadata": {
  "kernelspec": {
   "display_name": "Python 3 (ipykernel)",
   "language": "python",
   "name": "python3"
  },
  "language_info": {
   "codemirror_mode": {
    "name": "ipython",
    "version": 3
   },
   "file_extension": ".py",
   "mimetype": "text/x-python",
   "name": "python",
   "nbconvert_exporter": "python",
   "pygments_lexer": "ipython3",
   "version": "3.10.9"
  }
 },
 "nbformat": 4,
 "nbformat_minor": 5
}
