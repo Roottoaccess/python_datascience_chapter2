{
 "cells": [
  {
   "cell_type": "code",
   "execution_count": 3,
   "id": "73054c8e",
   "metadata": {},
   "outputs": [],
   "source": [
    "# NumPy stands for Numerical Python helps for scitific\n",
    "# Calculation"
   ]
  },
  {
   "cell_type": "code",
   "execution_count": 4,
   "id": "85c93199",
   "metadata": {},
   "outputs": [],
   "source": [
    "# List can have multiple datatype where as array can have \n",
    "# a same type of data type this is the basic difference \n",
    "# between the both"
   ]
  },
  {
   "cell_type": "code",
   "execution_count": 5,
   "id": "010f6464",
   "metadata": {},
   "outputs": [],
   "source": [
    "import time\n",
    "import numpy as np"
   ]
  },
  {
   "cell_type": "code",
   "execution_count": 6,
   "id": "d6f9133a",
   "metadata": {},
   "outputs": [],
   "source": [
    "x = np.random.rand(1000000)"
   ]
  },
  {
   "cell_type": "code",
   "execution_count": 7,
   "id": "8e9ca071",
   "metadata": {},
   "outputs": [
    {
     "name": "stdout",
     "output_type": "stream",
     "text": [
      "[0.5605993  0.74522033 0.59665255 ... 0.22406475 0.31741216 0.0273907 ]\n"
     ]
    }
   ],
   "source": [
    "print(x)"
   ]
  },
  {
   "cell_type": "code",
   "execution_count": 8,
   "id": "b6152108",
   "metadata": {},
   "outputs": [
    {
     "name": "stdout",
     "output_type": "stream",
     "text": [
      "<class 'numpy.ndarray'>\n"
     ]
    }
   ],
   "source": [
    "print(type(x))"
   ]
  },
  {
   "cell_type": "code",
   "execution_count": 9,
   "id": "dd5772e0",
   "metadata": {},
   "outputs": [
    {
     "name": "stdout",
     "output_type": "stream",
     "text": [
      "0.12194943428039551\n"
     ]
    }
   ],
   "source": [
    "start = time.time()\n",
    "mean = sum(x) / len(x)\n",
    "print(time.time() - start)"
   ]
  },
  {
   "cell_type": "code",
   "execution_count": 10,
   "id": "71c8de5e",
   "metadata": {},
   "outputs": [
    {
     "name": "stdout",
     "output_type": "stream",
     "text": [
      "0.002003192901611328\n"
     ]
    }
   ],
   "source": [
    "# Using a mean function of numpy\n",
    "start = time.time()\n",
    "mean_np = np.mean(x)\n",
    "print(time.time() - start)"
   ]
  },
  {
   "cell_type": "code",
   "execution_count": 11,
   "id": "80dedaf9",
   "metadata": {},
   "outputs": [],
   "source": [
    "# ndarrays can be one , two , three , four or multidimention array n represent how many dimention\n",
    "# Using regular Python List\n",
    "# Using build-in NumPy functions"
   ]
  },
  {
   "cell_type": "code",
   "execution_count": 12,
   "id": "e88bf10f",
   "metadata": {},
   "outputs": [
    {
     "name": "stdout",
     "output_type": "stream",
     "text": [
      "x =  [1 2 3 4 5]\n"
     ]
    }
   ],
   "source": [
    "# We import NumPy into Python\n",
    "import numpy as np\n",
    "# We create a 1D ndarray that contains only integers\n",
    "x = np.array([1,2,3,4,5])\n",
    "# Let's print the ndarray we just created using the print() command\n",
    "print('x = ',x)"
   ]
  },
  {
   "cell_type": "code",
   "execution_count": 13,
   "id": "dc7e5e12",
   "metadata": {},
   "outputs": [
    {
     "data": {
      "text/plain": [
       "numpy.ndarray"
      ]
     },
     "execution_count": 13,
     "metadata": {},
     "output_type": "execute_result"
    }
   ],
   "source": [
    "type(x)"
   ]
  },
  {
   "cell_type": "code",
   "execution_count": 14,
   "id": "14e0e177",
   "metadata": {},
   "outputs": [
    {
     "name": "stdout",
     "output_type": "stream",
     "text": [
      "x =  [1 2 3 4 5]\n",
      "(5,)\n",
      "int32\n",
      "<class 'numpy.ndarray'>\n"
     ]
    }
   ],
   "source": [
    "# Shape of an ndarray\n",
    "x = np.array([1,2,3,4,5])\n",
    "print('x = ',x)\n",
    "print(x.shape)\n",
    "print(x.dtype)\n",
    "print(type(x))"
   ]
  },
  {
   "cell_type": "code",
   "execution_count": 15,
   "id": "5fa51957",
   "metadata": {},
   "outputs": [
    {
     "name": "stdout",
     "output_type": "stream",
     "text": [
      "(2,)\n",
      "<U12\n",
      "<class 'numpy.ndarray'>\n"
     ]
    }
   ],
   "source": [
    "# ndarray can contain a string\n",
    "x = np.array(['hello world', 'pythonic_way'])\n",
    "print(x.shape)\n",
    "print(x.dtype)\n",
    "print(type(x))"
   ]
  },
  {
   "cell_type": "code",
   "execution_count": 16,
   "id": "4744dc01",
   "metadata": {},
   "outputs": [
    {
     "name": "stdout",
     "output_type": "stream",
     "text": [
      "x =  ['1' '4' 'hello world' 'pythonic_way']\n",
      "(4,)\n",
      "<U12\n",
      "<class 'numpy.ndarray'>\n"
     ]
    }
   ],
   "source": [
    "# Here all the integer will convert into string\n",
    "x = np.array([1 , 4 ,'hello world', 'pythonic_way'])\n",
    "print('x = ',x)\n",
    "print(x.shape)\n",
    "print(x.dtype)\n",
    "print(type(x))"
   ]
  },
  {
   "cell_type": "code",
   "execution_count": 17,
   "id": "4e74817e",
   "metadata": {},
   "outputs": [
    {
     "name": "stdout",
     "output_type": "stream",
     "text": [
      "\n",
      "Y = \n",
      " [[ 1  2  3]\n",
      " [ 4  5  6]\n",
      " [ 7  8  9]\n",
      " [10 11 12]]\n",
      "\n",
      "(4, 3)\n",
      "12\n",
      "<class 'numpy.ndarray'>\n",
      "int32\n"
     ]
    }
   ],
   "source": [
    "# we create a rank 2 ndarray that only contains integers\n",
    "Y = np.array([[1,2,3],[4,5,6],[7,8,9],[10,11,12]])\n",
    "\n",
    "# We print Y\n",
    "print()\n",
    "print('Y = \\n', Y)\n",
    "print()\n",
    "\n",
    "print(Y.shape)\n",
    "print(Y.size)\n",
    "print(type(Y))\n",
    "print(Y.dtype)"
   ]
  },
  {
   "cell_type": "code",
   "execution_count": 18,
   "id": "201b69f3",
   "metadata": {},
   "outputs": [
    {
     "name": "stdout",
     "output_type": "stream",
     "text": [
      "int32\n",
      "float64\n",
      "float64\n",
      "[1.  2.5 4. ]\n"
     ]
    }
   ],
   "source": [
    "x = np.array([1,2,3])\n",
    "y = np.array([1.0,2.0,3.0])\n",
    "z = np.array([1,2.5,4])\n",
    "\n",
    "print(x.dtype)\n",
    "print(y.dtype)\n",
    "print(z.dtype)\n",
    "print(z)"
   ]
  },
  {
   "cell_type": "code",
   "execution_count": 19,
   "id": "0bf71f74",
   "metadata": {},
   "outputs": [
    {
     "name": "stdout",
     "output_type": "stream",
     "text": [
      "['1.5' '2.0' '4.0' '8.0']\n",
      "<U3\n"
     ]
    },
    {
     "name": "stderr",
     "output_type": "stream",
     "text": [
      "C:\\Users\\Biswarup Dutta\\AppData\\Local\\Temp\\ipykernel_1796\\226593405.py:1: DeprecationWarning: `np.str` is a deprecated alias for the builtin `str`. To silence this warning, use `str` by itself. Doing this will not modify any behavior and is safe. If you specifically wanted the numpy scalar type, use `np.str_` here.\n",
      "Deprecated in NumPy 1.20; for more details and guidance: https://numpy.org/devdocs/release/1.20.0-notes.html#deprecations\n",
      "  x = np.array([1.5,2.0,4.0,8.0], dtype = np.str)\n"
     ]
    }
   ],
   "source": [
    "x = np.array([1.5,2.0,4.0,8.0], dtype = np.str)\n",
    "print(x)\n",
    "print(x.dtype)"
   ]
  },
  {
   "cell_type": "code",
   "execution_count": 20,
   "id": "32f3e3a3",
   "metadata": {},
   "outputs": [],
   "source": [
    "# Save the array\n",
    "x = np.array([1,2,3,4,5,6,7,8])\n",
    "\n",
    "np.save('my_array', x)"
   ]
  },
  {
   "cell_type": "code",
   "execution_count": 21,
   "id": "1d0d44a6",
   "metadata": {},
   "outputs": [
    {
     "name": "stdout",
     "output_type": "stream",
     "text": [
      "y =  [1 2 3 4 5 6 7 8]\n",
      "<class 'numpy.ndarray'>\n",
      "int32\n"
     ]
    }
   ],
   "source": [
    "# Loading th array\n",
    "y = np.load('my_array.npy')\n",
    "\n",
    "print('y = ',y)\n",
    "print(type(y))\n",
    "print(y.dtype)"
   ]
  },
  {
   "cell_type": "code",
   "execution_count": 22,
   "id": "718d6598",
   "metadata": {},
   "outputs": [
    {
     "name": "stdout",
     "output_type": "stream",
     "text": [
      "[1 2 3 4 5 6 7 8]\n"
     ]
    }
   ],
   "source": [
    "print(y)"
   ]
  },
  {
   "cell_type": "code",
   "execution_count": 23,
   "id": "0c8f7161",
   "metadata": {},
   "outputs": [
    {
     "name": "stdout",
     "output_type": "stream",
     "text": [
      "[[0. 0. 0. 0.]\n",
      " [0. 0. 0. 0.]\n",
      " [0. 0. 0. 0.]]\n",
      "(3, 4)\n",
      "<class 'numpy.ndarray'>\n",
      "float64\n"
     ]
    }
   ],
   "source": [
    "# We can now ndarray from build-in functions\n",
    "# np.zeros()\n",
    "\n",
    "x = np.zeros((3,4))\n",
    "print(x)\n",
    "print(x.shape)\n",
    "print(type(x))\n",
    "print(x.dtype)"
   ]
  },
  {
   "cell_type": "code",
   "execution_count": 24,
   "id": "c82fc667",
   "metadata": {},
   "outputs": [
    {
     "name": "stdout",
     "output_type": "stream",
     "text": [
      "[[1. 1.]\n",
      " [1. 1.]\n",
      " [1. 1.]]\n",
      "(3, 2)\n",
      "<class 'numpy.ndarray'>\n",
      "float64\n"
     ]
    }
   ],
   "source": [
    "# np.once\n",
    "x = np.ones((3,2))\n",
    "\n",
    "print(x)\n",
    "print(x.shape)\n",
    "print(type(x))\n",
    "print(x.dtype)"
   ]
  },
  {
   "cell_type": "code",
   "execution_count": 25,
   "id": "04abb0e0",
   "metadata": {},
   "outputs": [
    {
     "name": "stdout",
     "output_type": "stream",
     "text": [
      "x = \n",
      " [[8 8 8]\n",
      " [8 8 8]]\n",
      "(2, 3)\n",
      "<class 'numpy.ndarray'>\n",
      "int32\n"
     ]
    }
   ],
   "source": [
    "# np.full()\n",
    "X = np.full((2,3), 8)\n",
    "print('x = \\n', X)\n",
    "\n",
    "print(X.shape)\n",
    "print(type(X))\n",
    "print(X.dtype)"
   ]
  },
  {
   "cell_type": "code",
   "execution_count": 26,
   "id": "a7c259c2",
   "metadata": {},
   "outputs": [
    {
     "name": "stdout",
     "output_type": "stream",
     "text": [
      "x = \n",
      " [[1. 0. 0. 0. 0.]\n",
      " [0. 1. 0. 0. 0.]\n",
      " [0. 0. 1. 0. 0.]\n",
      " [0. 0. 0. 1. 0.]\n",
      " [0. 0. 0. 0. 1.]]\n",
      "(5, 5)\n",
      "<class 'numpy.ndarray'>\n",
      "float64\n"
     ]
    }
   ],
   "source": [
    "# np.eye()\n",
    "# identical array\n",
    "X = np.eye(5)\n",
    "\n",
    "print('x = \\n', X)\n",
    "print(X.shape)\n",
    "print(type(X))\n",
    "print(X.dtype)"
   ]
  },
  {
   "cell_type": "code",
   "execution_count": 27,
   "id": "4a5f0125",
   "metadata": {},
   "outputs": [
    {
     "name": "stdout",
     "output_type": "stream",
     "text": [
      "x = \n",
      " [[10  0  0  0]\n",
      " [ 0 20  0  0]\n",
      " [ 0  0 30  0]\n",
      " [ 0  0  0 40]]\n",
      "(4, 4)\n",
      "<class 'numpy.ndarray'>\n",
      "int32\n"
     ]
    }
   ],
   "source": [
    "# np.diag():\n",
    "# Values we are giving in diagonal\n",
    "X = np.diag([10,20,30,40])\n",
    "\n",
    "print('x = \\n', X)\n",
    "print(X.shape)\n",
    "print(type(X))\n",
    "print(X.dtype)"
   ]
  },
  {
   "cell_type": "code",
   "execution_count": 28,
   "id": "a19b843d",
   "metadata": {},
   "outputs": [
    {
     "name": "stdout",
     "output_type": "stream",
     "text": [
      "x =  [4 5 6 7 8 9]\n",
      "(6,)\n",
      "int32\n",
      "<class 'numpy.ndarray'>\n"
     ]
    }
   ],
   "source": [
    "# np.arange(): # takes start stop and step\n",
    "x = np.arange(4 , 10)\n",
    "\n",
    "print('x = ', x)\n",
    "\n",
    "print(x.shape)\n",
    "print(x.dtype)\n",
    "print(type(x))"
   ]
  },
  {
   "cell_type": "code",
   "execution_count": 29,
   "id": "17f27ab6",
   "metadata": {},
   "outputs": [
    {
     "name": "stdout",
     "output_type": "stream",
     "text": [
      "x =  [ 1  4  7 10 13]\n",
      "(5,)\n",
      "int32\n",
      "<class 'numpy.ndarray'>\n"
     ]
    }
   ],
   "source": [
    "# np.arange(): # takes start stop and step\n",
    "x = np.arange(1 , 14 , 3)\n",
    "\n",
    "print('x = ', x)\n",
    "\n",
    "print(x.shape)\n",
    "print(x.dtype)\n",
    "print(type(x))"
   ]
  },
  {
   "cell_type": "code",
   "execution_count": 32,
   "id": "5cb9f62b",
   "metadata": {},
   "outputs": [],
   "source": [
    "# np.linspace():\n",
    "# It is use for float number\n",
    "# Full interval 0 , 10 10 will be included\n",
    "import numpy as np"
   ]
  },
  {
   "cell_type": "code",
   "execution_count": 34,
   "id": "9a595c54",
   "metadata": {},
   "outputs": [
    {
     "name": "stdout",
     "output_type": "stream",
     "text": [
      "x = \n",
      " [ 0.          2.77777778  5.55555556  8.33333333 11.11111111 13.88888889\n",
      " 16.66666667 19.44444444 22.22222222 25.        ]\n",
      "float64\n",
      "(10,)\n",
      "<class 'numpy.ndarray'>\n"
     ]
    }
   ],
   "source": [
    "x = np.linspace(0,25,10)\n",
    "\n",
    "print('x = \\n', x)\n",
    "\n",
    "print(x.dtype)\n",
    "print(x.shape)\n",
    "print(type(x))"
   ]
  },
  {
   "cell_type": "code",
   "execution_count": 36,
   "id": "8e273f14",
   "metadata": {},
   "outputs": [
    {
     "name": "stdout",
     "output_type": "stream",
     "text": [
      "x = \n",
      " [ 0.   2.5  5.   7.5 10.  12.5 15.  17.5 20.  22.5]\n",
      "float64\n",
      "(10,)\n",
      "<class 'numpy.ndarray'>\n"
     ]
    }
   ],
   "source": [
    "x = np.linspace(0,25,10, endpoint = False)\n",
    "\n",
    "print('x = \\n',x)\n",
    "print(x.dtype)\n",
    "print(x.shape)\n",
    "print(type(x))"
   ]
  },
  {
   "cell_type": "code",
   "execution_count": 38,
   "id": "f550c112",
   "metadata": {},
   "outputs": [
    {
     "name": "stdout",
     "output_type": "stream",
     "text": [
      "Original x =  [ 0  1  2  3  4  5  6  7  8  9 10 11 12 13 14 15 16 17 18 19]\n",
      "Reshape x = \n",
      " [[ 0  1  2  3  4]\n",
      " [ 5  6  7  8  9]\n",
      " [10 11 12 13 14]\n",
      " [15 16 17 18 19]]\n"
     ]
    }
   ],
   "source": [
    "# np.reshape():\n",
    "# Creating rank 1 ndarray\n",
    "x = np.arange(20)\n",
    "\n",
    "print('Original x = ', x)\n",
    "\n",
    "# We reshape x into a 4 * 5 ndarray\n",
    "x = np.reshape(x, (4, 5))\n",
    "\n",
    "print('Reshape x = \\n', x)"
   ]
  },
  {
   "cell_type": "code",
   "execution_count": 41,
   "id": "b4d85e97",
   "metadata": {},
   "outputs": [
    {
     "name": "stdout",
     "output_type": "stream",
     "text": [
      "y = \n",
      " [[ 0  1  2  3  4]\n",
      " [ 5  6  7  8  9]\n",
      " [10 11 12 13 14]\n",
      " [15 16 17 18 19]]\n",
      "y has dimention:  (4, 5)\n",
      "<class 'numpy.ndarray'>\n",
      "int32\n"
     ]
    }
   ],
   "source": [
    "Y = np.arange(20).reshape(4 , 5)\n",
    "\n",
    "print('y = \\n',Y)\n",
    "print('y has dimention: ',Y.shape)\n",
    "print(type(Y))\n",
    "print(Y.dtype)"
   ]
  },
  {
   "cell_type": "code",
   "execution_count": 42,
   "id": "43ce8022",
   "metadata": {},
   "outputs": [
    {
     "name": "stdout",
     "output_type": "stream",
     "text": [
      "X = \n",
      " [[ 0.          5.55555556]\n",
      " [11.11111111 16.66666667]\n",
      " [22.22222222 27.77777778]\n",
      " [33.33333333 38.88888889]\n",
      " [44.44444444 50.        ]]\n"
     ]
    }
   ],
   "source": [
    "X = np.linspace(0,50,10).reshape(5,2)\n",
    "print('X = \\n', X)"
   ]
  },
  {
   "cell_type": "code",
   "execution_count": 44,
   "id": "4f96780b",
   "metadata": {},
   "outputs": [
    {
     "name": "stdout",
     "output_type": "stream",
     "text": [
      "x = \n",
      " [[0.97066746 0.57842768 0.70797229]\n",
      " [0.59359699 0.5452459  0.20301751]\n",
      " [0.92816307 0.16346166 0.38169004]]\n",
      "(3, 3)\n",
      "float64\n",
      "<class 'numpy.ndarray'>\n"
     ]
    }
   ],
   "source": [
    "# Random: float values\n",
    "# from the random module calling the random functions\n",
    "# Creates random values\n",
    "x = np.random.random((3,3))\n",
    "\n",
    "print('x = \\n', x)\n",
    "print(x.shape)\n",
    "print(x.dtype)\n",
    "print(type(x))"
   ]
  },
  {
   "cell_type": "code",
   "execution_count": 48,
   "id": "f0dde382",
   "metadata": {},
   "outputs": [
    {
     "name": "stdout",
     "output_type": "stream",
     "text": [
      "x = \n",
      " [[ 9  6]\n",
      " [ 7 13]\n",
      " [ 7 10]]\n",
      "(3, 2)\n",
      "int32\n",
      "<class 'numpy.ndarray'>\n"
     ]
    }
   ],
   "source": [
    "# Randint\n",
    "# Generating random integer values\n",
    "x = np.random.randint(4,15,size = (3,2))\n",
    "\n",
    "print('x = \\n',x)\n",
    "print(x.shape)\n",
    "print(x.dtype)\n",
    "print(type(x))"
   ]
  },
  {
   "cell_type": "code",
   "execution_count": 55,
   "id": "fabdbd6d",
   "metadata": {},
   "outputs": [
    {
     "name": "stdout",
     "output_type": "stream",
     "text": [
      "x = \n",
      " [[ 2.68713202  1.66697685 -3.03396326 ... -1.66789319  1.19532988\n",
      "  -0.10083746]\n",
      " [ 0.75488833  0.38142284 -0.94098531 ...  4.76502109  4.21692236\n",
      "   0.79597117]\n",
      " [ 2.57020182 -0.13513291  3.8346288  ...  3.70638833  0.07641352\n",
      "  -4.07169393]\n",
      " ...\n",
      " [ 0.34381358  1.7574144  -2.78646489 ...  2.32296919 -1.18565512\n",
      "   1.05340399]\n",
      " [ 0.50278896  0.65506929  1.44302561 ... -3.32209124  0.05898748\n",
      "   1.25993027]\n",
      " [ 5.81096944  0.17564065 -3.30960382 ... -1.50057599  1.01801286\n",
      "  -3.20263937]]\n",
      "(1000, 1000)\n",
      "<class 'numpy.ndarray'>\n",
      "float64\n",
      "Mean:  0.9959523849373809\n",
      "Max:  10.730731654395534\n",
      "Min:  -9.942052879191158\n",
      "x has 309363 negative numbers\n",
      "x has 690637 positive numbers\n"
     ]
    }
   ],
   "source": [
    "# Random.normal:\n",
    "# 1 is for mean and 2 is for standard deviation\n",
    "x = np.random.normal(1,2, size=(1000,1000))\n",
    "\n",
    "print('x = \\n', x)\n",
    "\n",
    "print(x.shape)\n",
    "print(type(x))\n",
    "print(x.dtype)\n",
    "print(\"Mean: \",x.mean())\n",
    "print(\"Max: \",x.max())\n",
    "print(\"Min: \",x.min())\n",
    "# How many negative numbers are there and there sum\n",
    "print('x has', (x < 0).sum(), 'negative numbers')\n",
    "# How many positive numbers are there and there sum\n",
    "print('x has', (x > 0).sum(), 'positive numbers')"
   ]
  },
  {
   "cell_type": "code",
   "execution_count": 65,
   "id": "864af64d",
   "metadata": {},
   "outputs": [
    {
     "data": {
      "text/plain": [
       "2"
      ]
     },
     "execution_count": 65,
     "metadata": {},
     "output_type": "execute_result"
    }
   ],
   "source": [
    "x = np.array([-1,4,-2,9])\n",
    "(x<0).sum()"
   ]
  },
  {
   "cell_type": "code",
   "execution_count": 66,
   "id": "c3ab1783",
   "metadata": {},
   "outputs": [
    {
     "data": {
      "text/plain": [
       "-3"
      ]
     },
     "execution_count": 66,
     "metadata": {},
     "output_type": "execute_result"
    }
   ],
   "source": [
    "x[x<0].sum()"
   ]
  },
  {
   "cell_type": "code",
   "execution_count": 67,
   "id": "f3cce78e",
   "metadata": {},
   "outputs": [
    {
     "data": {
      "text/plain": [
       "15.449962620519376"
      ]
     },
     "execution_count": 67,
     "metadata": {},
     "output_type": "execute_result"
    }
   ],
   "source": [
    "np.random.uniform(10,20)"
   ]
  },
  {
   "cell_type": "code",
   "execution_count": 81,
   "id": "797f5432",
   "metadata": {},
   "outputs": [
    {
     "name": "stdout",
     "output_type": "stream",
     "text": [
      "x = \n",
      " [[ 2  4  6  8]\n",
      " [10 12 14 16]\n",
      " [18 20 22 24]\n",
      " [26 28 30 32]]\n"
     ]
    }
   ],
   "source": [
    "# Question 1\n",
    "import numpy as np\n",
    "x = np.arange(2,34,2).reshape(4,4)\n",
    "print('x = \\n', x)"
   ]
  },
  {
   "cell_type": "code",
   "execution_count": 82,
   "id": "9b62474e",
   "metadata": {},
   "outputs": [
    {
     "name": "stdout",
     "output_type": "stream",
     "text": [
      "X = \n",
      " [[ 2.  4.  6.  8.]\n",
      " [10. 12. 14. 16.]\n",
      " [18. 20. 22. 24.]\n",
      " [26. 28. 30. 32.]]\n"
     ]
    }
   ],
   "source": [
    "# Question 2\n",
    "X = np.linspace(2,32,16).reshape(4,4)\n",
    "print('X = \\n', X)"
   ]
  },
  {
   "cell_type": "code",
   "execution_count": 84,
   "id": "fb1f9cf0",
   "metadata": {},
   "outputs": [
    {
     "name": "stdout",
     "output_type": "stream",
     "text": [
      "x =  [1 2 3 4 5]\n",
      "1\n",
      "18\n"
     ]
    }
   ],
   "source": [
    "# Accessing values\n",
    "x = np.array([1,2,3,4,5])\n",
    "print('x = ',x)\n",
    "print(x[0])\n",
    "x[3] = 18\n",
    "print(x[-2])"
   ]
  },
  {
   "cell_type": "code",
   "execution_count": 91,
   "id": "a7e59a69",
   "metadata": {},
   "outputs": [
    {
     "name": "stdout",
     "output_type": "stream",
     "text": [
      "x = \n",
      " [[20  2  3]\n",
      " [ 4  5  6]\n",
      " [ 7  8  9]]\n",
      "20\n",
      "2\n",
      "9\n",
      "8\n"
     ]
    }
   ],
   "source": [
    "# Accessing the 2D array\n",
    "x = np.array([[1,2,3],[4,5,6],[7,8,9]])\n",
    "x[0,0] = 20\n",
    "print(\"x = \\n\",x)\n",
    "\n",
    "print(x[0,0])\n",
    "print(x[0,1])\n",
    "print(x[2,2])\n",
    "print(x[-1,1])"
   ]
  },
  {
   "cell_type": "code",
   "execution_count": 92,
   "id": "2bd01302",
   "metadata": {},
   "outputs": [
    {
     "name": "stdout",
     "output_type": "stream",
     "text": [
      "x = \n",
      " [2 3 4]\n"
     ]
    }
   ],
   "source": [
    "x = np.array([1,2,3,4,5])\n",
    "x = np.delete(x, [0,4])\n",
    "print('x = \\n',x)"
   ]
  },
  {
   "cell_type": "code",
   "execution_count": 94,
   "id": "29bac32a",
   "metadata": {},
   "outputs": [
    {
     "name": "stdout",
     "output_type": "stream",
     "text": [
      "y = \n",
      " [[1 2 3]\n",
      " [4 5 6]]\n"
     ]
    }
   ],
   "source": [
    "y = np.array([[1,2,3],[4,5,6]])\n",
    "# y = np.delete(y, [0,1] , axis=1)\n",
    "print('y = \\n', y)\n",
    "y = np.delete(y, [0,1] , axis=1)"
   ]
  },
  {
   "cell_type": "code",
   "execution_count": 116,
   "id": "8b8974b4",
   "metadata": {},
   "outputs": [
    {
     "name": "stdout",
     "output_type": "stream",
     "text": [
      "y = \n",
      " [[1 2 3]\n",
      " [4 5 6]\n",
      " [7 8 9]]\n",
      "y = \n",
      " [[1 2 3]\n",
      " [4 5 0]\n",
      " [7 8 9]]\n"
     ]
    }
   ],
   "source": [
    "y = np.array([[1,2,3],[4,5,6],[7,8,9]])\n",
    "print('y = \\n',y)\n",
    "y[1 , 2] = 0\n",
    "print('y = \\n',y)"
   ]
  },
  {
   "cell_type": "code",
   "execution_count": 2,
   "id": "f2b314de",
   "metadata": {},
   "outputs": [
    {
     "name": "stdout",
     "output_type": "stream",
     "text": [
      "xy = \n",
      " [[ 1  2  3]\n",
      " [ 4  7  8]\n",
      " [ 9  6 32]]\n"
     ]
    }
   ],
   "source": [
    "import numpy as np\n",
    "xy = np.array([[1,2,3],[4,7,8],[9,6,32]])\n",
    "\n",
    "print(\"xy = \\n\",xy)"
   ]
  },
  {
   "cell_type": "code",
   "execution_count": 3,
   "id": "fb6d22b6",
   "metadata": {},
   "outputs": [],
   "source": [
    "x = np.array([1,2,3,4,5,6,7,8])\n",
    "x = np.delete(x, [0,4])"
   ]
  },
  {
   "cell_type": "code",
   "execution_count": 8,
   "id": "6afe1eea",
   "metadata": {},
   "outputs": [
    {
     "name": "stdout",
     "output_type": "stream",
     "text": [
      "This is the original value:  [ 2  3  4  6  7  8  6 88 88 92 28]\n"
     ]
    }
   ],
   "source": [
    "print(\"This is the original value: \",x)"
   ]
  },
  {
   "cell_type": "code",
   "execution_count": 9,
   "id": "11bd54ff",
   "metadata": {},
   "outputs": [
    {
     "name": "stdout",
     "output_type": "stream",
     "text": [
      "[ 2  3  4  6  7  8  6 88 88 92 28 88 92 28]\n"
     ]
    }
   ],
   "source": [
    "x = np.append(x, 88)\n",
    "x = np.append(x, [92,28])\n",
    "print(x)"
   ]
  },
  {
   "cell_type": "code",
   "execution_count": 16,
   "id": "5b398e7d",
   "metadata": {},
   "outputs": [
    {
     "name": "stdout",
     "output_type": "stream",
     "text": [
      "[[1 2]\n",
      " [4 5]]\n",
      "[[1 2]\n",
      " [4 5]\n",
      " [7 8]]\n"
     ]
    }
   ],
   "source": [
    "y = np.array([[1,2],[4,5]])\n",
    "print(y)\n",
    "y = np.append(y, [[7,8]] , axis = 0)\n",
    "print(y)\n",
    "# q = np.array(y,[[9] ,[10]], axis = 0)"
   ]
  },
  {
   "cell_type": "code",
   "execution_count": 17,
   "id": "8b115503",
   "metadata": {},
   "outputs": [
    {
     "name": "stdout",
     "output_type": "stream",
     "text": [
      "[1 2 3 4 3 4 5]\n"
     ]
    }
   ],
   "source": [
    "# Insert in nd array\n",
    "x = ([1,2,3,4,5])\n",
    "x = np.insert(x,2,[3,4])\n",
    "print(x)"
   ]
  },
  {
   "cell_type": "code",
   "execution_count": 21,
   "id": "3ff5211d",
   "metadata": {},
   "outputs": [
    {
     "name": "stdout",
     "output_type": "stream",
     "text": [
      "x = \n",
      " [1 2]\n",
      "y = \n",
      " [[3 4]\n",
      " [5 6]]\n",
      "z = \n",
      " [[1 2]\n",
      " [3 4]\n",
      " [5 6]]\n",
      "w = \n",
      " [[3 4 1]\n",
      " [5 6 2]]\n"
     ]
    }
   ],
   "source": [
    "# Stacking vstack and hstack\n",
    "x = np.array([1,2])\n",
    "y = np.array([[3,4],[5,6]])\n",
    "print('x = \\n',x)\n",
    "print('y = \\n',y)\n",
    "# stacking x on top of y\n",
    "z = np.vstack((x,y))\n",
    "w = np.hstack((y,x.reshape(2,1)))\n",
    "print('z = \\n',z)\n",
    "print('w = \\n',w)"
   ]
  },
  {
   "cell_type": "code",
   "execution_count": 31,
   "id": "11d923f3",
   "metadata": {},
   "outputs": [
    {
     "name": "stdout",
     "output_type": "stream",
     "text": [
      "x = \n",
      " [[ 0  1  2  3  4]\n",
      " [ 5  6  7  8  9]\n",
      " [10 11 12 13 14]\n",
      " [15 16 17 18 19]]\n",
      "q = \n",
      " [[ 7  8]\n",
      " [12 13]]\n",
      "z =  \n",
      " [[ 7  8  9]\n",
      " [12 13 14]\n",
      " [17 18 19]]\n",
      "a = \n",
      " [ 2  7 12 17]\n",
      "xy = \n",
      " [[ 5  6  7]\n",
      " [10 11 12]\n",
      " [15 16 17]]\n",
      "zz = \n",
      " [[ 1  2  3]\n",
      " [ 6  7  8]\n",
      " [11 12 13]]\n",
      "mm = \n",
      " [[13 14]\n",
      " [18 19]]\n"
     ]
    }
   ],
   "source": [
    "# Slicing ndarray\n",
    "import numpy as np\n",
    "x = np.arange(20).reshape(4,5)\n",
    "print('x = \\n',x)\n",
    "q = x[1:3 , 2:4]\n",
    "print('q = \\n',q)\n",
    "z = x[1:4,2:5]\n",
    "print('z =  \\n',z)\n",
    "a = x[:,2]\n",
    "print('a = \\n',a)\n",
    "# Red slicing\n",
    "xy = x[1:4,0:3]\n",
    "print('xy = \\n',xy)\n",
    "# Blue slicing\n",
    "zz = x[0:3,1:4]\n",
    "print('zz = \\n',zz)\n",
    "# Pink slicing\n",
    "mm = x[2:4,3:5]\n",
    "print('mm = \\n',mm)"
   ]
  },
  {
   "cell_type": "code",
   "execution_count": 33,
   "id": "ccbde34c",
   "metadata": {},
   "outputs": [],
   "source": [
    "# Axis 0 is rows\n",
    "# Axis 1 is coloum in the matrix"
   ]
  }
 ],
 "metadata": {
  "kernelspec": {
   "display_name": "Python 3 (ipykernel)",
   "language": "python",
   "name": "python3"
  },
  "language_info": {
   "codemirror_mode": {
    "name": "ipython",
    "version": 3
   },
   "file_extension": ".py",
   "mimetype": "text/x-python",
   "name": "python",
   "nbconvert_exporter": "python",
   "pygments_lexer": "ipython3",
   "version": "3.10.9"
  }
 },
 "nbformat": 4,
 "nbformat_minor": 5
}
