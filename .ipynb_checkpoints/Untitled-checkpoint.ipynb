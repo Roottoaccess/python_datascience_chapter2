{
 "cells": [
  {
   "cell_type": "code",
   "execution_count": 24,
   "id": "e5dc937a",
   "metadata": {},
   "outputs": [],
   "source": [
    "for i in range(5,36,5):\n",
    "    if i == 35:\n",
    "        continue\n",
    "        print(i)"
   ]
  },
  {
   "cell_type": "code",
   "execution_count": 21,
   "id": "3e8a9123",
   "metadata": {},
   "outputs": [],
   "source": [
    "names = [\"John Killion\",\"Monica Geller\",\"Chandle Bing\",\"Phoebe Buffay\"]\n",
    "new = []\n",
    "for i in names:\n",
    "    new.append(i.replace(\" \",\"_\").lower())"
   ]
  },
  {
   "cell_type": "code",
   "execution_count": 25,
   "id": "38cbc765",
   "metadata": {},
   "outputs": [
    {
     "data": {
      "text/plain": [
       "['john_killion', 'monica_geller', 'chandle_bing', 'phoebe_buffay']"
      ]
     },
     "execution_count": 25,
     "metadata": {},
     "output_type": "execute_result"
    }
   ],
   "source": [
    "new"
   ]
  },
  {
   "cell_type": "code",
   "execution_count": 28,
   "id": "540352db",
   "metadata": {},
   "outputs": [
    {
     "name": "stdout",
     "output_type": "stream",
     "text": [
      "2\n"
     ]
    }
   ],
   "source": [
    "token = ['<greeting>','hello world','</greeting>']\n",
    "count = 0\n",
    "for i in token:\n",
    "    if i[0]==\"<\" and i[-1]==\">\":\n",
    "        count += 1\n",
    "print(count)"
   ]
  },
  {
   "cell_type": "code",
   "execution_count": 43,
   "id": "c63df749",
   "metadata": {},
   "outputs": [
    {
     "name": "stdout",
     "output_type": "stream",
     "text": [
      "<ul>\n",
      "<li>first string</li>\n",
      "<li>second string</li>\n",
      "<li>third string</li>\n",
      "</ul>\n"
     ]
    }
   ],
   "source": [
    "items = ['first string', 'second string', 'third string']\n",
    "html_str = \"<ul>\\n\"\n",
    "\n",
    "for i in items:\n",
    "    html_str += '<li>'+i+'</li>\\n'\n",
    "html_str += '</ul>'\n",
    "print(html_str)"
   ]
  },
  {
   "cell_type": "code",
   "execution_count": 81,
   "id": "aa5a3e79",
   "metadata": {},
   "outputs": [
    {
     "name": "stdout",
     "output_type": "stream",
     "text": [
      "apples\n",
      "oranges\n"
     ]
    }
   ],
   "source": [
    "result = 0\n",
    "basket_items = {'apples': 4, 'oranges': 19, 'kites': 3, 'sandwitches': 8}\n",
    "fruites = ['apples','oranges','pears','peaches','grapes','banana']\n",
    "count = 0\n",
    "for i in basket_items:\n",
    "    if i in fruites:\n",
    "        print(i)"
   ]
  },
  {
   "cell_type": "code",
   "execution_count": null,
   "id": "0816ab34",
   "metadata": {},
   "outputs": [],
   "source": []
  }
 ],
 "metadata": {
  "kernelspec": {
   "display_name": "Python 3 (ipykernel)",
   "language": "python",
   "name": "python3"
  },
  "language_info": {
   "codemirror_mode": {
    "name": "ipython",
    "version": 3
   },
   "file_extension": ".py",
   "mimetype": "text/x-python",
   "name": "python",
   "nbconvert_exporter": "python",
   "pygments_lexer": "ipython3",
   "version": "3.10.9"
  }
 },
 "nbformat": 4,
 "nbformat_minor": 5
}
