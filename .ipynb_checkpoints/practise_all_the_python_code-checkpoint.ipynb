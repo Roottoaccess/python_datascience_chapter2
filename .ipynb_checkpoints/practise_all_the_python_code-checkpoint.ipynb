{
 "cells": [
  {
   "cell_type": "code",
   "execution_count": 1,
   "id": "21cee5b4",
   "metadata": {},
   "outputs": [
    {
     "name": "stdout",
     "output_type": "stream",
     "text": [
      "['joey_tribbiani', 'monica_geller', 'chandle_bing', 'phoebe_buffay']\n"
     ]
    }
   ],
   "source": [
    "# Writing a for-loop that iterates over the given list and create a new list with specific requirements\n",
    "names = [\"Joey Tribbiani\",\"Monica Geller\",\"Chandle Bing\",\"Phoebe Buffay\"]\n",
    "\n",
    "username = []\n",
    "\n",
    "for i in names:\n",
    "    username.append(i.lower().replace(\" \",\"_\"))\n",
    "    \n",
    "# Printing the username\n",
    "print(username)"
   ]
  },
  {
   "cell_type": "code",
   "execution_count": 2,
   "id": "3dc1e84c",
   "metadata": {},
   "outputs": [
    {
     "name": "stdout",
     "output_type": "stream",
     "text": [
      "The number of xml tages present in the tokens are:  2\n"
     ]
    }
   ],
   "source": [
    "# Write a for loop that iterate over a list of string, tokens and count how many of them are XML tages\n",
    "\n",
    "tokens = ['<greeting>','Hello World','</greeting>']\n",
    "count = 0\n",
    "for i in tokens:\n",
    "    if i[0] == '<' and i[-1] == '>':\n",
    "        count += 1\n",
    "print(\"The number of xml tages present in the tokens are: \",count)"
   ]
  },
  {
   "cell_type": "code",
   "execution_count": 3,
   "id": "dca84b0f",
   "metadata": {},
   "outputs": [
    {
     "name": "stdout",
     "output_type": "stream",
     "text": [
      "<ul>\n",
      "<li>first string</li>\n",
      "<li>second string</li>\n",
      "<li>third string</li>\n",
      "</ul>\n"
     ]
    }
   ],
   "source": [
    "# Write a python script that will convert the list element into xml tages\n",
    "items = ['first string','second string','third string']\n",
    "html_str = \"<ul>\\n\"\n",
    "\n",
    "for i in items:\n",
    "    html_str += '<li>' + i + '</li>\\n'\n",
    "html_str += \"</ul>\"\n",
    "\n",
    "print(html_str)"
   ]
  },
  {
   "cell_type": "code",
   "execution_count": 16,
   "id": "0d6d23be",
   "metadata": {},
   "outputs": [],
   "source": [
    "cast = {\n",
    "    \"Joey Tribbiani\": \"Joey Tribbiani\",\n",
    "    \"Monica Geller\": \"Chandler Bong\",\n",
    "    \"Phoebe Buffay\": \"Mike Hannigan\",\n",
    "    \"Ross Geller\": \"Rachel Green\"\n",
    "}"
   ]
  },
  {
   "cell_type": "code",
   "execution_count": 17,
   "id": "23ec5a1d",
   "metadata": {},
   "outputs": [
    {
     "name": "stdout",
     "output_type": "stream",
     "text": [
      "dict_items([('Joey Tribbiani', 'Joey Tribbiani'), ('Monica Geller', 'Chandler Bong'), ('Phoebe Buffay', 'Mike Hannigan'), ('Ross Geller', 'Rachel Green')])\n"
     ]
    }
   ],
   "source": [
    "print(cast.items())"
   ]
  },
  {
   "cell_type": "code",
   "execution_count": 22,
   "id": "77f11184",
   "metadata": {},
   "outputs": [
    {
     "name": "stdout",
     "output_type": "stream",
     "text": [
      "Joey Tribbiani\n",
      "Monica Geller\n",
      "Phoebe Buffay\n",
      "Ross Geller\n"
     ]
    }
   ],
   "source": [
    "for i in cast.keys():\n",
    "    print(i)"
   ]
  },
  {
   "cell_type": "code",
   "execution_count": 10,
   "id": "e374ad9e",
   "metadata": {},
   "outputs": [
    {
     "name": "stdout",
     "output_type": "stream",
     "text": [
      "dict_values(['Joey Tribbiani', 'Chandler Bong', 'Mike Hannigan', 'Rachel Green'])\n"
     ]
    }
   ],
   "source": [
    "print(cast.values())"
   ]
  },
  {
   "cell_type": "code",
   "execution_count": 20,
   "id": "c6e24ae9",
   "metadata": {},
   "outputs": [
    {
     "name": "stdout",
     "output_type": "stream",
     "text": [
      "('Joey Tribbiani', 'Joey Tribbiani')\n",
      "('Monica Geller', 'Chandler Bong')\n",
      "('Phoebe Buffay', 'Mike Hannigan')\n",
      "('Ross Geller', 'Rachel Green')\n"
     ]
    }
   ],
   "source": [
    "for i in cast.items():\n",
    "    print(i)"
   ]
  },
  {
   "cell_type": "code",
   "execution_count": 21,
   "id": "ee3c5d3c",
   "metadata": {},
   "outputs": [
    {
     "name": "stdout",
     "output_type": "stream",
     "text": [
      "Joey Tribbiani\n",
      "Monica Geller\n",
      "Phoebe Buffay\n",
      "Ross Geller\n"
     ]
    }
   ],
   "source": [
    "for i in cast:\n",
    "    print(i)"
   ]
  },
  {
   "cell_type": "code",
   "execution_count": 30,
   "id": "b52dbec9",
   "metadata": {},
   "outputs": [
    {
     "name": "stdout",
     "output_type": "stream",
     "text": [
      "Joey Tribbiani Joey Tribbiani\n",
      "Monica Geller Chandler Bong\n",
      "Phoebe Buffay Mike Hannigan\n",
      "Ross Geller Rachel Green\n"
     ]
    }
   ],
   "source": [
    "# Creating a tupple unpacking script\n",
    "for i,j in cast.items():\n",
    "    print(i,j)"
   ]
  },
  {
   "cell_type": "code",
   "execution_count": 32,
   "id": "851e0200",
   "metadata": {},
   "outputs": [
    {
     "name": "stdout",
     "output_type": "stream",
     "text": [
      "Partner1: Joey Tribbiani     Partner2: Joey Tribbiani\n",
      "Partner1: Monica Geller     Partner2: Chandler Bong\n",
      "Partner1: Phoebe Buffay     Partner2: Mike Hannigan\n",
      "Partner1: Ross Geller     Partner2: Rachel Green\n"
     ]
    }
   ],
   "source": [
    "# Formatting the following by using the format function\n",
    "for i,j in cast.items():\n",
    "    print(\"Partner1: {}     Partner2: {}\".format(i,j))"
   ]
  },
  {
   "cell_type": "code",
   "execution_count": 46,
   "id": "c799aeb4",
   "metadata": {},
   "outputs": [
    {
     "name": "stdout",
     "output_type": "stream",
     "text": [
      "Element in basket_items found: apples and elements in fruites: apples \n",
      "Element in basket_items found: oranges and elements in fruites: oranges \n",
      "2\n"
     ]
    }
   ],
   "source": [
    "# One practise question to do\n",
    "result = 0\n",
    "basket_items = {'apples': 4, 'oranges':19, 'kites':3, 'sandwitches':8}\n",
    "fruits = ['apples','oranges','pears','peaches','grapes','bananas']\n",
    "count = 0\n",
    "for i in fruits:\n",
    "    for j in basket_items.keys():\n",
    "        if i == j:\n",
    "            print(\"Element in basket_items found: {} and elements in fruites: {} \".format(i,j))\n",
    "            count += 1\n",
    "print(count)"
   ]
  },
  {
   "cell_type": "code",
   "execution_count": 48,
   "id": "438177e8",
   "metadata": {},
   "outputs": [
    {
     "name": "stdout",
     "output_type": "stream",
     "text": [
      "The total fruites present in the basket_items are: 2 and the number of those fruites present: 23 \n"
     ]
    }
   ],
   "source": [
    "result = 0\n",
    "basket_items = {'apples': 4, 'oranges':19, 'kites':3, 'sandwitches':8}\n",
    "fruits = ['apples','oranges','pears','peaches','grapes','bananas']\n",
    "count = 0\n",
    "\n",
    "for i,j in basket_items.items():\n",
    "    if i in fruits:\n",
    "        count += 1\n",
    "        result += j\n",
    "        \n",
    "# print(\"The total number of fruites present in the basket_items are: \",count)\n",
    "# print(\"The total values of the present fruites are: \",result)\n",
    "\n",
    "print(\"The total fruites present in the basket_items are: {} and the number of those fruites present: {} \".format(count,result))"
   ]
  },
  {
   "cell_type": "code",
   "execution_count": 2,
   "id": "7fac8437",
   "metadata": {},
   "outputs": [
    {
     "name": "stdout",
     "output_type": "stream",
     "text": [
      "[10, 8]\n"
     ]
    }
   ],
   "source": [
    "# While loop for the operation\n",
    "card_deck = [4,11,8,5,13,2,8,10]\n",
    "hand = []\n",
    "\n",
    "while sum(hand) < 17:\n",
    "    hand.append(card_deck.pop())\n",
    "print(hand)"
   ]
  },
  {
   "cell_type": "code",
   "execution_count": 3,
   "id": "ff7ae634",
   "metadata": {},
   "outputs": [
    {
     "name": "stdout",
     "output_type": "stream",
     "text": [
      "1\n",
      "2\n",
      "3\n",
      "4\n",
      "5\n",
      "6\n",
      "7\n",
      "8\n",
      "9\n",
      "10\n",
      "11\n",
      "12\n",
      "13\n",
      "14\n",
      "15\n"
     ]
    }
   ],
   "source": [
    "a = 0\n",
    "while a < 15:\n",
    "    a = a + 1\n",
    "    print(a)"
   ]
  },
  {
   "cell_type": "code",
   "execution_count": null,
   "id": "546b3129",
   "metadata": {},
   "outputs": [],
   "source": []
  }
 ],
 "metadata": {
  "kernelspec": {
   "display_name": "Python 3 (ipykernel)",
   "language": "python",
   "name": "python3"
  },
  "language_info": {
   "codemirror_mode": {
    "name": "ipython",
    "version": 3
   },
   "file_extension": ".py",
   "mimetype": "text/x-python",
   "name": "python",
   "nbconvert_exporter": "python",
   "pygments_lexer": "ipython3",
   "version": "3.10.9"
  }
 },
 "nbformat": 4,
 "nbformat_minor": 5
}
