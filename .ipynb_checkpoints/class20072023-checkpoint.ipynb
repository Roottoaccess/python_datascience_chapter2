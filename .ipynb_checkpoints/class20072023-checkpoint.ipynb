{
 "cells": [
  {
   "cell_type": "code",
   "execution_count": 1,
   "id": "ff25cdd1",
   "metadata": {},
   "outputs": [
    {
     "name": "stdout",
     "output_type": "stream",
     "text": [
      "Hello world\n"
     ]
    }
   ],
   "source": [
    "print(\"Hello world\")"
   ]
  },
  {
   "cell_type": "code",
   "execution_count": 4,
   "id": "5b1a16ce",
   "metadata": {},
   "outputs": [
    {
     "name": "stdout",
     "output_type": "stream",
     "text": [
      "[57.0, 58.2, 50.6, 27.2]\n"
     ]
    }
   ],
   "source": [
    "numbers = [\n",
    "                [34,63,88,71,29],\n",
    "                [90,78,51,27,45],\n",
    "                [63,37,85,46,22],\n",
    "                [51,22,34,11,18]\n",
    "            ]\n",
    "def mean(numbers):\n",
    "  return sum(numbers) / len(numbers)\n",
    "average = list(map(mean, numbers))\n",
    "print(average)"
   ]
  },
  {
   "cell_type": "code",
   "execution_count": 3,
   "id": "c7ca51f0",
   "metadata": {},
   "outputs": [
    {
     "name": "stdout",
     "output_type": "stream",
     "text": [
      "[(0, 3, 7), (1, 4, 8), (2, 5, 9)]\n"
     ]
    }
   ],
   "source": [
    "data = ((0,1,2),(3,4,5),(7,8,9))\n",
    "lst = list(zip(*data))\n",
    "print(lst)"
   ]
  },
  {
   "cell_type": "code",
   "execution_count": 10,
   "id": "13772c33",
   "metadata": {},
   "outputs": [
    {
     "name": "stdout",
     "output_type": "stream",
     "text": [
      "[14.25]\n"
     ]
    }
   ],
   "source": [
    "number = [[14,12,15,16]]\n",
    "\n",
    "def mean(number):\n",
    "    return sum(number) / len(number)\n",
    "average = list(map(mean , number))\n",
    "print(average)"
   ]
  },
  {
   "cell_type": "code",
   "execution_count": 11,
   "id": "16c3d4f9",
   "metadata": {},
   "outputs": [
    {
     "name": "stdout",
     "output_type": "stream",
     "text": [
      "[[1, 2, 3, 2], [4, 5, 6, 2]]\n"
     ]
    }
   ],
   "source": [
    "listnum = [[1,2,3],[4,5,6]]\n",
    "\n",
    "def add2(listnum):\n",
    "    listnum.append(2)\n",
    "    return listnum\n",
    "\n",
    "x = list(map(add2,listnum))\n",
    "print(x)"
   ]
  },
  {
   "cell_type": "code",
   "execution_count": 16,
   "id": "272e33a1",
   "metadata": {},
   "outputs": [],
   "source": [
    "# Variable scope\n",
    "# If any varible create inside a function that we use to call local variable\n",
    "def Hi():\n",
    "    # Local variable\n",
    "    j = 5\n",
    "    return j"
   ]
  },
  {
   "cell_type": "code",
   "execution_count": 17,
   "id": "cce93fa8",
   "metadata": {},
   "outputs": [
    {
     "data": {
      "text/plain": [
       "5"
      ]
     },
     "execution_count": 17,
     "metadata": {},
     "output_type": "execute_result"
    }
   ],
   "source": [
    "Hi()"
   ]
  },
  {
   "cell_type": "code",
   "execution_count": 20,
   "id": "18becf55",
   "metadata": {},
   "outputs": [],
   "source": [
    "# Global variables\n",
    "abc = 18"
   ]
  },
  {
   "cell_type": "code",
   "execution_count": 21,
   "id": "65b5453d",
   "metadata": {},
   "outputs": [
    {
     "data": {
      "text/plain": [
       "18"
      ]
     },
     "execution_count": 21,
     "metadata": {},
     "output_type": "execute_result"
    }
   ],
   "source": [
    "abc"
   ]
  },
  {
   "cell_type": "code",
   "execution_count": 22,
   "id": "e0bd7309",
   "metadata": {},
   "outputs": [],
   "source": [
    "# Docstrings"
   ]
  },
  {
   "cell_type": "code",
   "execution_count": 26,
   "id": "12ca7c0f",
   "metadata": {},
   "outputs": [
    {
     "name": "stdout",
     "output_type": "stream",
     "text": [
      "3\n"
     ]
    }
   ],
   "source": [
    "\"\"\"\n",
    "    Calculates the maximum result of dividing x1, x2, and x3 by themselves and each other.\n",
    "\n",
    "    Parameters:\n",
    "        x1 (int or float): The first number.\n",
    "        x2 (int or float): The second number.\n",
    "        x3 (int or float): The third number.\n",
    "\n",
    "    Returns:\n",
    "        int or float: The maximum result of dividing x1, x2, and x3 by themselves and each other.\n",
    "\"\"\"\n",
    "def fun(x1,x2,x3):\n",
    "    return max((x1 / x1) ,(x1 / x2) ,(x1 / x3) , (x2 / x1), (x2 / x2) , (x2 / x3) , (x3 / x1), (x3 / x2), (x3 / x3))\n",
    "\n",
    "print(int(fun(1,2,3)))"
   ]
  },
  {
   "cell_type": "code",
   "execution_count": 29,
   "id": "eb8586dc",
   "metadata": {},
   "outputs": [
    {
     "name": "stdout",
     "output_type": "stream",
     "text": [
      "3\n"
     ]
    }
   ],
   "source": [
    "def maximum(a,b,c):\n",
    "    new = []\n",
    "    val = [a,b,c]\n",
    "    for i in val:\n",
    "        for j in val:\n",
    "            new.append(i/j)\n",
    "    return max(new)\n",
    "print(int(maximum(1,2,3)))"
   ]
  },
  {
   "cell_type": "code",
   "execution_count": null,
   "id": "fe186d95",
   "metadata": {},
   "outputs": [],
   "source": []
  }
 ],
 "metadata": {
  "kernelspec": {
   "display_name": "Python 3 (ipykernel)",
   "language": "python",
   "name": "python3"
  },
  "language_info": {
   "codemirror_mode": {
    "name": "ipython",
    "version": 3
   },
   "file_extension": ".py",
   "mimetype": "text/x-python",
   "name": "python",
   "nbconvert_exporter": "python",
   "pygments_lexer": "ipython3",
   "version": "3.10.9"
  }
 },
 "nbformat": 4,
 "nbformat_minor": 5
}
